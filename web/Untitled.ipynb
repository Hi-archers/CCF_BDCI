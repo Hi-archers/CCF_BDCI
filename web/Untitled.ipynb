{
 "cells": [
  {
   "cell_type": "code",
   "execution_count": 13,
   "id": "4afae276",
   "metadata": {},
   "outputs": [],
   "source": [
    "Str = '名称:魏子豪 别名：小魏 生日：1998'"
   ]
  },
  {
   "cell_type": "code",
   "execution_count": 14,
   "id": "4dc194f4",
   "metadata": {},
   "outputs": [
    {
     "data": {
      "text/plain": [
       "'名称:魏子豪##别名：小魏##生日：1998'"
      ]
     },
     "execution_count": 14,
     "metadata": {},
     "output_type": "execute_result"
    }
   ],
   "source": [
    "Str = Str.replace(' ',\"##\")\n",
    "Str"
   ]
  },
  {
   "cell_type": "code",
   "execution_count": 15,
   "id": "56fc79a3",
   "metadata": {},
   "outputs": [
    {
     "data": {
      "text/plain": [
       "'名称@魏子豪##别名：小魏##生日：1998'"
      ]
     },
     "execution_count": 15,
     "metadata": {},
     "output_type": "execute_result"
    }
   ],
   "source": [
    "Str = Str.replace(':',\"@\")\n",
    "Str"
   ]
  },
  {
   "cell_type": "code",
   "execution_count": 16,
   "id": "fe093788",
   "metadata": {},
   "outputs": [
    {
     "data": {
      "text/plain": [
       "'名称@魏子豪##别名@小魏##生日@1998'"
      ]
     },
     "execution_count": 16,
     "metadata": {},
     "output_type": "execute_result"
    }
   ],
   "source": [
    "Str = Str.replace('：',\"@\")\n",
    "Str"
   ]
  },
  {
   "cell_type": "code",
   "execution_count": null,
   "id": "615fe323",
   "metadata": {},
   "outputs": [],
   "source": []
  }
 ],
 "metadata": {
  "kernelspec": {
   "display_name": "pytorch",
   "language": "python",
   "name": "pytorch"
  },
  "language_info": {
   "codemirror_mode": {
    "name": "ipython",
    "version": 3
   },
   "file_extension": ".py",
   "mimetype": "text/x-python",
   "name": "python",
   "nbconvert_exporter": "python",
   "pygments_lexer": "ipython3",
   "version": "3.8.10"
  }
 },
 "nbformat": 4,
 "nbformat_minor": 5
}
